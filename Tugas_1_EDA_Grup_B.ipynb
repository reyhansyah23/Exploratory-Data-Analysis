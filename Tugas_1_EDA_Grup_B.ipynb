{
  "nbformat": 4,
  "nbformat_minor": 0,
  "metadata": {
    "colab": {
      "name": "Tugas_1_EDA_Grup B.ipynb",
      "provenance": [],
      "collapsed_sections": [],
      "authorship_tag": "ABX9TyOGBrXJeI4D+Bc9XlrniR01",
      "include_colab_link": true
    },
    "kernelspec": {
      "name": "python3",
      "display_name": "Python 3"
    },
    "language_info": {
      "name": "python"
    }
  },
  "cells": [
    {
      "cell_type": "markdown",
      "metadata": {
        "id": "view-in-github",
        "colab_type": "text"
      },
      "source": [
        "<a href=\"https://colab.research.google.com/github/reyhansyah23/Tugas_EDA_1/blob/main/Tugas_1_EDA_Grup_B.ipynb\" target=\"_parent\"><img src=\"https://colab.research.google.com/assets/colab-badge.svg\" alt=\"Open In Colab\"/></a>"
      ]
    },
    {
      "cell_type": "code",
      "metadata": {
        "id": "sjwYh8y9tcj1"
      },
      "source": [
        "import warnings; warnings.simplefilter('ignore')\n",
        "import pandas as pd, matplotlib.pyplot as plt, seaborn as sns, numpy as np\n",
        "import matplotlib.cm as cm\n",
        "from collections import Counter\n",
        "plt.style.use('bmh'); sns.set()"
      ],
      "execution_count": 1,
      "outputs": []
    },
    {
      "cell_type": "code",
      "metadata": {
        "colab": {
          "base_uri": "https://localhost:8080/"
        },
        "id": "j4EUAaJctjm3",
        "outputId": "551023af-efdc-4261-b35b-793b7344fed0"
      },
      "source": [
        "# Importing CSV data  https://pandas.pydata.org/pandas-docs/stable/reference/api/pandas.read_csv.html\n",
        "try:\n",
        "    # Running Locally \n",
        "    price = pd.read_csv('data/price.csv')\n",
        "except:\n",
        "    # Running in Google Colab\n",
        "    !mkdir data\n",
        "    !wget -P data/ https://raw.githubusercontent.com/taudata-indonesia/eLearning/master/data/price.csv\n",
        "    price = pd.read_csv('data/price.csv')"
      ],
      "execution_count": 2,
      "outputs": [
        {
          "output_type": "stream",
          "text": [
            "--2021-04-13 14:50:20--  https://raw.githubusercontent.com/taudata-indonesia/eLearning/master/data/price.csv\n",
            "Resolving raw.githubusercontent.com (raw.githubusercontent.com)... 185.199.109.133, 185.199.111.133, 185.199.108.133, ...\n",
            "Connecting to raw.githubusercontent.com (raw.githubusercontent.com)|185.199.109.133|:443... connected.\n",
            "HTTP request sent, awaiting response... 200 OK\n",
            "Length: 53592 (52K) [text/plain]\n",
            "Saving to: ‘data/price.csv’\n",
            "\n",
            "\rprice.csv             0%[                    ]       0  --.-KB/s               \rprice.csv           100%[===================>]  52.34K  --.-KB/s    in 0.006s  \n",
            "\n",
            "2021-04-13 14:50:20 (8.40 MB/s) - ‘data/price.csv’ saved [53592/53592]\n",
            "\n"
          ],
          "name": "stdout"
        }
      ]
    },
    {
      "cell_type": "code",
      "metadata": {
        "colab": {
          "base_uri": "https://localhost:8080/"
        },
        "id": "X0CMrKXbtlN0",
        "outputId": "25bb001d-0ad2-4d9d-9d6d-e25f9ac11e60"
      },
      "source": [
        "# Dari EDA-01 - Bisa juga Load PreProcessed Data\n",
        "price.drop(\"Observation\", axis=1, inplace=True)\n",
        "price.drop_duplicates(inplace=True)\n",
        "price['Parking'] = price['Parking'].astype('category')\n",
        "price['City_Category'] = price['City_Category'].astype('category')\n",
        "price2 = price[np.abs(price.House_Price - price.House_Price.mean())<=(2*price.House_Price.std())]\n",
        "price2.info()"
      ],
      "execution_count": 3,
      "outputs": [
        {
          "output_type": "stream",
          "text": [
            "<class 'pandas.core.frame.DataFrame'>\n",
            "Int64Index: 931 entries, 0 to 931\n",
            "Data columns (total 9 columns):\n",
            " #   Column         Non-Null Count  Dtype   \n",
            "---  ------         --------------  -----   \n",
            " 0   Dist_Taxi      918 non-null    float64 \n",
            " 1   Dist_Market    918 non-null    float64 \n",
            " 2   Dist_Hospital  930 non-null    float64 \n",
            " 3   Carpet         923 non-null    float64 \n",
            " 4   Builtup        916 non-null    float64 \n",
            " 5   Parking        931 non-null    category\n",
            " 6   City_Category  931 non-null    category\n",
            " 7   Rainfall       931 non-null    int64   \n",
            " 8   House_Price    931 non-null    int64   \n",
            "dtypes: category(2), float64(5), int64(2)\n",
            "memory usage: 60.3 KB\n"
          ],
          "name": "stdout"
        }
      ]
    },
    {
      "cell_type": "code",
      "metadata": {
        "colab": {
          "base_uri": "https://localhost:8080/",
          "height": 285
        },
        "id": "kZfHl3KvtrFF",
        "outputId": "27578d7b-5038-4004-925f-d644c62a00a3"
      },
      "source": [
        "# BoxPlots\n",
        "p = sns.boxplot(x=\"House_Price\", y=\"Parking\", data=price2)\n",
        "# Apa makna pola yang terlihat di data oleh BoxPlot ini?"
      ],
      "execution_count": 4,
      "outputs": [
        {
          "output_type": "display_data",
          "data": {
            "image/png": "[encoded data removed]",
            "text/plain": [
              "<Figure size 432x288 with 1 Axes>"
            ]
          },
          "metadata": {
            "tags": [],
            "needs_background": "light"
          }
        }
      ]
    },
    {
      "cell_type": "markdown",
      "metadata": {
        "id": "L-lbkiZBt1GP"
      },
      "source": [
        "####**TUGAS 1**"
      ]
    },
    {
      "cell_type": "code",
      "metadata": {
        "colab": {
          "base_uri": "https://localhost:8080/",
          "height": 99
        },
        "id": "BGoyocCLtsuW",
        "outputId": "2d209580-b1a0-406a-f232-ed94425bec4c"
      },
      "source": [
        "Q1 = price2['House_Price'].quantile(0.25)\n",
        "Q3 = price2['House_Price'].quantile(0.75)\n",
        "IQR = Q3 - Q1\n",
        "print(\"Q1 ={}, Q3 ={}, IQR ={}\".format(Q1, Q3, IQR))\n",
        "\n",
        "outliers_bawah = (price2['House_Price'] < (Q1 - 1.5 * IQR))\n",
        "rumah_potensial = price2.loc[outliers_bawah]\n",
        "rumah_potensial"
      ],
      "execution_count": 5,
      "outputs": [
        {
          "output_type": "stream",
          "text": [
            "Q1 =4658000.0, Q3 =7180500.0, IQR =2522500.0\n"
          ],
          "name": "stdout"
        },
        {
          "output_type": "execute_result",
          "data": {
            "text/html": [
              "<div>\n",
              "<style scoped>\n",
              "    .dataframe tbody tr th:only-of-type {\n",
              "        vertical-align: middle;\n",
              "    }\n",
              "\n",
              "    .dataframe tbody tr th {\n",
              "        vertical-align: top;\n",
              "    }\n",
              "\n",
              "    .dataframe thead th {\n",
              "        text-align: right;\n",
              "    }\n",
              "</style>\n",
              "<table border=\"1\" class=\"dataframe\">\n",
              "  <thead>\n",
              "    <tr style=\"text-align: right;\">\n",
              "      <th></th>\n",
              "      <th>Dist_Taxi</th>\n",
              "      <th>Dist_Market</th>\n",
              "      <th>Dist_Hospital</th>\n",
              "      <th>Carpet</th>\n",
              "      <th>Builtup</th>\n",
              "      <th>Parking</th>\n",
              "      <th>City_Category</th>\n",
              "      <th>Rainfall</th>\n",
              "      <th>House_Price</th>\n",
              "    </tr>\n",
              "  </thead>\n",
              "  <tbody>\n",
              "    <tr>\n",
              "      <th>811</th>\n",
              "      <td>NaN</td>\n",
              "      <td>NaN</td>\n",
              "      <td>NaN</td>\n",
              "      <td>NaN</td>\n",
              "      <td>NaN</td>\n",
              "      <td>Open</td>\n",
              "      <td>CAT A</td>\n",
              "      <td>440</td>\n",
              "      <td>30000</td>\n",
              "    </tr>\n",
              "  </tbody>\n",
              "</table>\n",
              "</div>"
            ],
            "text/plain": [
              "     Dist_Taxi  Dist_Market  Dist_Hospital  ...  City_Category  Rainfall House_Price\n",
              "811        NaN          NaN            NaN  ...          CAT A       440       30000\n",
              "\n",
              "[1 rows x 9 columns]"
            ]
          },
          "metadata": {
            "tags": []
          },
          "execution_count": 5
        }
      ]
    },
    {
      "cell_type": "code",
      "metadata": {
        "colab": {
          "base_uri": "https://localhost:8080/",
          "height": 99
        },
        "id": "AmeR4_jrturQ",
        "outputId": "2ed8559c-3f44-4236-a02b-848b43623317"
      },
      "source": [
        "Q1 = price2['House_Price'].quantile(0.25)\n",
        "Q3 = price2['House_Price'].quantile(0.75)\n",
        "IQR = Q3 - Q1\n",
        "print(\"Q1 ={}, Q3 ={}, IQR ={}\".format(Q1, Q3, IQR))\n",
        "\n",
        "outliers_atas = (price2['House_Price'] > (Q3 + 1.5 * IQR))\n",
        "rumah_overprice = price2.loc[outliers_atas]\n",
        "rumah_overprice"
      ],
      "execution_count": 6,
      "outputs": [
        {
          "output_type": "stream",
          "text": [
            "Q1 =4658000.0, Q3 =7180500.0, IQR =2522500.0\n"
          ],
          "name": "stdout"
        },
        {
          "output_type": "execute_result",
          "data": {
            "text/html": [
              "<div>\n",
              "<style scoped>\n",
              "    .dataframe tbody tr th:only-of-type {\n",
              "        vertical-align: middle;\n",
              "    }\n",
              "\n",
              "    .dataframe tbody tr th {\n",
              "        vertical-align: top;\n",
              "    }\n",
              "\n",
              "    .dataframe thead th {\n",
              "        text-align: right;\n",
              "    }\n",
              "</style>\n",
              "<table border=\"1\" class=\"dataframe\">\n",
              "  <thead>\n",
              "    <tr style=\"text-align: right;\">\n",
              "      <th></th>\n",
              "      <th>Dist_Taxi</th>\n",
              "      <th>Dist_Market</th>\n",
              "      <th>Dist_Hospital</th>\n",
              "      <th>Carpet</th>\n",
              "      <th>Builtup</th>\n",
              "      <th>Parking</th>\n",
              "      <th>City_Category</th>\n",
              "      <th>Rainfall</th>\n",
              "      <th>House_Price</th>\n",
              "    </tr>\n",
              "  </thead>\n",
              "  <tbody>\n",
              "    <tr>\n",
              "      <th>678</th>\n",
              "      <td>7288.0</td>\n",
              "      <td>9560.0</td>\n",
              "      <td>12531.0</td>\n",
              "      <td>1989.0</td>\n",
              "      <td>2414.0</td>\n",
              "      <td>No Parking</td>\n",
              "      <td>CAT A</td>\n",
              "      <td>860</td>\n",
              "      <td>11632000</td>\n",
              "    </tr>\n",
              "  </tbody>\n",
              "</table>\n",
              "</div>"
            ],
            "text/plain": [
              "     Dist_Taxi  Dist_Market  Dist_Hospital  ...  City_Category  Rainfall House_Price\n",
              "678     7288.0       9560.0        12531.0  ...          CAT A       860    11632000\n",
              "\n",
              "[1 rows x 9 columns]"
            ]
          },
          "metadata": {
            "tags": []
          },
          "execution_count": 6
        }
      ]
    },
    {
      "cell_type": "markdown",
      "metadata": {
        "id": "_7SQsJg1vjc_"
      },
      "source": [
        "###**TUGAS 2**"
      ]
    },
    {
      "cell_type": "code",
      "metadata": {
        "colab": {
          "base_uri": "https://localhost:8080/",
          "height": 386
        },
        "id": "PN9Sz08ltyTF",
        "outputId": "f9de103e-be9e-422c-f1bc-ac1f5db9d27e"
      },
      "source": [
        "p = sns.catplot(x=\"Parking\", y=\"House_Price\", hue=\"City_Category\", kind=\"box\", data=price2)"
      ],
      "execution_count": 7,
      "outputs": [
        {
          "output_type": "display_data",
          "data": {
            "image/png": "[encoded data removed]",
            "text/plain": [
              "<Figure size 453.425x360 with 1 Axes>"
            ]
          },
          "metadata": {
            "tags": [],
            "needs_background": "light"
          }
        }
      ]
    },
    {
      "cell_type": "markdown",
      "metadata": {
        "id": "79VUUO8HwXd1"
      },
      "source": [
        "####Subsetting data price2 berdasarkan \"City_Category\""
      ]
    },
    {
      "cell_type": "code",
      "metadata": {
        "id": "a_A__DA-wK_W"
      },
      "source": [
        "CAT_A = price2.loc[price2['City_Category'] == 'CAT A']\n",
        "CAT_B = price2.loc[price2['City_Category'] == 'CAT B']\n",
        "CAT_C = price2.loc[price2['City_Category'] == 'CAT C']"
      ],
      "execution_count": 8,
      "outputs": []
    },
    {
      "cell_type": "code",
      "metadata": {
        "colab": {
          "base_uri": "https://localhost:8080/",
          "height": 206
        },
        "id": "zEnI7LZ1wPfd",
        "outputId": "e9ef044f-dd1f-4256-9ce2-63ec47da7f60"
      },
      "source": [
        "CAT_A.head()"
      ],
      "execution_count": 10,
      "outputs": [
        {
          "output_type": "execute_result",
          "data": {
            "text/html": [
              "<div>\n",
              "<style scoped>\n",
              "    .dataframe tbody tr th:only-of-type {\n",
              "        vertical-align: middle;\n",
              "    }\n",
              "\n",
              "    .dataframe tbody tr th {\n",
              "        vertical-align: top;\n",
              "    }\n",
              "\n",
              "    .dataframe thead th {\n",
              "        text-align: right;\n",
              "    }\n",
              "</style>\n",
              "<table border=\"1\" class=\"dataframe\">\n",
              "  <thead>\n",
              "    <tr style=\"text-align: right;\">\n",
              "      <th></th>\n",
              "      <th>Dist_Taxi</th>\n",
              "      <th>Dist_Market</th>\n",
              "      <th>Dist_Hospital</th>\n",
              "      <th>Carpet</th>\n",
              "      <th>Builtup</th>\n",
              "      <th>Parking</th>\n",
              "      <th>City_Category</th>\n",
              "      <th>Rainfall</th>\n",
              "      <th>House_Price</th>\n",
              "    </tr>\n",
              "  </thead>\n",
              "  <tbody>\n",
              "    <tr>\n",
              "      <th>2</th>\n",
              "      <td>11001.0</td>\n",
              "      <td>14399.0</td>\n",
              "      <td>16991.0</td>\n",
              "      <td>1340.0</td>\n",
              "      <td>1609.0</td>\n",
              "      <td>Not Provided</td>\n",
              "      <td>CAT A</td>\n",
              "      <td>720</td>\n",
              "      <td>5401000</td>\n",
              "    </tr>\n",
              "    <tr>\n",
              "      <th>6</th>\n",
              "      <td>13153.0</td>\n",
              "      <td>11869.0</td>\n",
              "      <td>17811.0</td>\n",
              "      <td>1542.0</td>\n",
              "      <td>1858.0</td>\n",
              "      <td>No Parking</td>\n",
              "      <td>CAT A</td>\n",
              "      <td>1030</td>\n",
              "      <td>7224000</td>\n",
              "    </tr>\n",
              "    <tr>\n",
              "      <th>10</th>\n",
              "      <td>4278.0</td>\n",
              "      <td>10646.0</td>\n",
              "      <td>8243.0</td>\n",
              "      <td>1187.0</td>\n",
              "      <td>1439.0</td>\n",
              "      <td>Covered</td>\n",
              "      <td>CAT A</td>\n",
              "      <td>1090</td>\n",
              "      <td>7128000</td>\n",
              "    </tr>\n",
              "    <tr>\n",
              "      <th>15</th>\n",
              "      <td>9648.0</td>\n",
              "      <td>14789.0</td>\n",
              "      <td>12812.0</td>\n",
              "      <td>1644.0</td>\n",
              "      <td>1950.0</td>\n",
              "      <td>Covered</td>\n",
              "      <td>CAT A</td>\n",
              "      <td>790</td>\n",
              "      <td>7887000</td>\n",
              "    </tr>\n",
              "    <tr>\n",
              "      <th>16</th>\n",
              "      <td>11079.0</td>\n",
              "      <td>13102.0</td>\n",
              "      <td>13076.0</td>\n",
              "      <td>1578.0</td>\n",
              "      <td>1907.0</td>\n",
              "      <td>Open</td>\n",
              "      <td>CAT A</td>\n",
              "      <td>1440</td>\n",
              "      <td>7725000</td>\n",
              "    </tr>\n",
              "  </tbody>\n",
              "</table>\n",
              "</div>"
            ],
            "text/plain": [
              "    Dist_Taxi  Dist_Market  Dist_Hospital  ...  City_Category  Rainfall House_Price\n",
              "2     11001.0      14399.0        16991.0  ...          CAT A       720     5401000\n",
              "6     13153.0      11869.0        17811.0  ...          CAT A      1030     7224000\n",
              "10     4278.0      10646.0         8243.0  ...          CAT A      1090     7128000\n",
              "15     9648.0      14789.0        12812.0  ...          CAT A       790     7887000\n",
              "16    11079.0      13102.0        13076.0  ...          CAT A      1440     7725000\n",
              "\n",
              "[5 rows x 9 columns]"
            ]
          },
          "metadata": {
            "tags": []
          },
          "execution_count": 10
        }
      ]
    },
    {
      "cell_type": "code",
      "metadata": {
        "colab": {
          "base_uri": "https://localhost:8080/",
          "height": 206
        },
        "id": "glrWYhqlwewo",
        "outputId": "48b2305d-bdfc-47f1-a139-f02a39a04fc3"
      },
      "source": [
        "CAT_B.head()"
      ],
      "execution_count": 11,
      "outputs": [
        {
          "output_type": "execute_result",
          "data": {
            "text/html": [
              "<div>\n",
              "<style scoped>\n",
              "    .dataframe tbody tr th:only-of-type {\n",
              "        vertical-align: middle;\n",
              "    }\n",
              "\n",
              "    .dataframe tbody tr th {\n",
              "        vertical-align: top;\n",
              "    }\n",
              "\n",
              "    .dataframe thead th {\n",
              "        text-align: right;\n",
              "    }\n",
              "</style>\n",
              "<table border=\"1\" class=\"dataframe\">\n",
              "  <thead>\n",
              "    <tr style=\"text-align: right;\">\n",
              "      <th></th>\n",
              "      <th>Dist_Taxi</th>\n",
              "      <th>Dist_Market</th>\n",
              "      <th>Dist_Hospital</th>\n",
              "      <th>Carpet</th>\n",
              "      <th>Builtup</th>\n",
              "      <th>Parking</th>\n",
              "      <th>City_Category</th>\n",
              "      <th>Rainfall</th>\n",
              "      <th>House_Price</th>\n",
              "    </tr>\n",
              "  </thead>\n",
              "  <tbody>\n",
              "    <tr>\n",
              "      <th>0</th>\n",
              "      <td>9796.0</td>\n",
              "      <td>5250.0</td>\n",
              "      <td>10703.0</td>\n",
              "      <td>1659.0</td>\n",
              "      <td>1961.0</td>\n",
              "      <td>Open</td>\n",
              "      <td>CAT B</td>\n",
              "      <td>530</td>\n",
              "      <td>6649000</td>\n",
              "    </tr>\n",
              "    <tr>\n",
              "      <th>1</th>\n",
              "      <td>8294.0</td>\n",
              "      <td>8186.0</td>\n",
              "      <td>12694.0</td>\n",
              "      <td>1461.0</td>\n",
              "      <td>1752.0</td>\n",
              "      <td>Not Provided</td>\n",
              "      <td>CAT B</td>\n",
              "      <td>210</td>\n",
              "      <td>3982000</td>\n",
              "    </tr>\n",
              "    <tr>\n",
              "      <th>3</th>\n",
              "      <td>8301.0</td>\n",
              "      <td>11188.0</td>\n",
              "      <td>12289.0</td>\n",
              "      <td>1451.0</td>\n",
              "      <td>1748.0</td>\n",
              "      <td>Covered</td>\n",
              "      <td>CAT B</td>\n",
              "      <td>620</td>\n",
              "      <td>5373000</td>\n",
              "    </tr>\n",
              "    <tr>\n",
              "      <th>4</th>\n",
              "      <td>10510.0</td>\n",
              "      <td>12629.0</td>\n",
              "      <td>13921.0</td>\n",
              "      <td>1770.0</td>\n",
              "      <td>2111.0</td>\n",
              "      <td>Not Provided</td>\n",
              "      <td>CAT B</td>\n",
              "      <td>450</td>\n",
              "      <td>4662000</td>\n",
              "    </tr>\n",
              "    <tr>\n",
              "      <th>5</th>\n",
              "      <td>6665.0</td>\n",
              "      <td>5142.0</td>\n",
              "      <td>9972.0</td>\n",
              "      <td>1442.0</td>\n",
              "      <td>1733.0</td>\n",
              "      <td>Open</td>\n",
              "      <td>CAT B</td>\n",
              "      <td>760</td>\n",
              "      <td>4526000</td>\n",
              "    </tr>\n",
              "  </tbody>\n",
              "</table>\n",
              "</div>"
            ],
            "text/plain": [
              "   Dist_Taxi  Dist_Market  Dist_Hospital  ...  City_Category  Rainfall House_Price\n",
              "0     9796.0       5250.0        10703.0  ...          CAT B       530     6649000\n",
              "1     8294.0       8186.0        12694.0  ...          CAT B       210     3982000\n",
              "3     8301.0      11188.0        12289.0  ...          CAT B       620     5373000\n",
              "4    10510.0      12629.0        13921.0  ...          CAT B       450     4662000\n",
              "5     6665.0       5142.0         9972.0  ...          CAT B       760     4526000\n",
              "\n",
              "[5 rows x 9 columns]"
            ]
          },
          "metadata": {
            "tags": []
          },
          "execution_count": 11
        }
      ]
    },
    {
      "cell_type": "code",
      "metadata": {
        "colab": {
          "base_uri": "https://localhost:8080/",
          "height": 206
        },
        "id": "Qd5mK0MnwgsP",
        "outputId": "e02cbfc2-45bf-4eeb-c98b-9a114bdde7fc"
      },
      "source": [
        "CAT_C.head()"
      ],
      "execution_count": 12,
      "outputs": [
        {
          "output_type": "execute_result",
          "data": {
            "text/html": [
              "<div>\n",
              "<style scoped>\n",
              "    .dataframe tbody tr th:only-of-type {\n",
              "        vertical-align: middle;\n",
              "    }\n",
              "\n",
              "    .dataframe tbody tr th {\n",
              "        vertical-align: top;\n",
              "    }\n",
              "\n",
              "    .dataframe thead th {\n",
              "        text-align: right;\n",
              "    }\n",
              "</style>\n",
              "<table border=\"1\" class=\"dataframe\">\n",
              "  <thead>\n",
              "    <tr style=\"text-align: right;\">\n",
              "      <th></th>\n",
              "      <th>Dist_Taxi</th>\n",
              "      <th>Dist_Market</th>\n",
              "      <th>Dist_Hospital</th>\n",
              "      <th>Carpet</th>\n",
              "      <th>Builtup</th>\n",
              "      <th>Parking</th>\n",
              "      <th>City_Category</th>\n",
              "      <th>Rainfall</th>\n",
              "      <th>House_Price</th>\n",
              "    </tr>\n",
              "  </thead>\n",
              "  <tbody>\n",
              "    <tr>\n",
              "      <th>7</th>\n",
              "      <td>5882.0</td>\n",
              "      <td>9948.0</td>\n",
              "      <td>13315.0</td>\n",
              "      <td>1261.0</td>\n",
              "      <td>1507.0</td>\n",
              "      <td>Open</td>\n",
              "      <td>CAT C</td>\n",
              "      <td>1020</td>\n",
              "      <td>3772000</td>\n",
              "    </tr>\n",
              "    <tr>\n",
              "      <th>9</th>\n",
              "      <td>8233.0</td>\n",
              "      <td>7067.0</td>\n",
              "      <td>11400.0</td>\n",
              "      <td>1030.0</td>\n",
              "      <td>1235.0</td>\n",
              "      <td>Open</td>\n",
              "      <td>CAT C</td>\n",
              "      <td>1130</td>\n",
              "      <td>4415000</td>\n",
              "    </tr>\n",
              "    <tr>\n",
              "      <th>20</th>\n",
              "      <td>8155.0</td>\n",
              "      <td>8085.0</td>\n",
              "      <td>9837.0</td>\n",
              "      <td>1940.0</td>\n",
              "      <td>2340.0</td>\n",
              "      <td>Covered</td>\n",
              "      <td>CAT C</td>\n",
              "      <td>980</td>\n",
              "      <td>4019000</td>\n",
              "    </tr>\n",
              "    <tr>\n",
              "      <th>21</th>\n",
              "      <td>9669.0</td>\n",
              "      <td>12385.0</td>\n",
              "      <td>13589.0</td>\n",
              "      <td>1421.0</td>\n",
              "      <td>1700.0</td>\n",
              "      <td>No Parking</td>\n",
              "      <td>CAT C</td>\n",
              "      <td>370</td>\n",
              "      <td>4346000</td>\n",
              "    </tr>\n",
              "    <tr>\n",
              "      <th>26</th>\n",
              "      <td>6615.0</td>\n",
              "      <td>8178.0</td>\n",
              "      <td>12804.0</td>\n",
              "      <td>1732.0</td>\n",
              "      <td>2073.0</td>\n",
              "      <td>Not Provided</td>\n",
              "      <td>CAT C</td>\n",
              "      <td>820</td>\n",
              "      <td>7005000</td>\n",
              "    </tr>\n",
              "  </tbody>\n",
              "</table>\n",
              "</div>"
            ],
            "text/plain": [
              "    Dist_Taxi  Dist_Market  Dist_Hospital  ...  City_Category  Rainfall House_Price\n",
              "7      5882.0       9948.0        13315.0  ...          CAT C      1020     3772000\n",
              "9      8233.0       7067.0        11400.0  ...          CAT C      1130     4415000\n",
              "20     8155.0       8085.0         9837.0  ...          CAT C       980     4019000\n",
              "21     9669.0      12385.0        13589.0  ...          CAT C       370     4346000\n",
              "26     6615.0       8178.0        12804.0  ...          CAT C       820     7005000\n",
              "\n",
              "[5 rows x 9 columns]"
            ]
          },
          "metadata": {
            "tags": []
          },
          "execution_count": 12
        }
      ]
    },
    {
      "cell_type": "code",
      "metadata": {
        "colab": {
          "base_uri": "https://localhost:8080/",
          "height": 386
        },
        "id": "B4xxpBMBwh7-",
        "outputId": "90895c5e-edaa-4dff-9602-2b0b98e728c4"
      },
      "source": [
        "p = sns.catplot(x=\"Parking\", y=\"House_Price\", kind=\"box\", data=CAT_A)"
      ],
      "execution_count": 13,
      "outputs": [
        {
          "output_type": "display_data",
          "data": {
            "image/png": "[encoded data removed]",
            "text/plain": [
              "<Figure size 360x360 with 1 Axes>"
            ]
          },
          "metadata": {
            "tags": [],
            "needs_background": "light"
          }
        }
      ]
    },
    {
      "cell_type": "code",
      "metadata": {
        "colab": {
          "base_uri": "https://localhost:8080/",
          "height": 386
        },
        "id": "fjVhZM7kwmxN",
        "outputId": "55424dd3-45e1-44bd-e009-cee42c4ddb3a"
      },
      "source": [
        "p = sns.catplot(x=\"Parking\", y=\"House_Price\", kind=\"box\", data=CAT_B)"
      ],
      "execution_count": 14,
      "outputs": [
        {
          "output_type": "display_data",
          "data": {
            "image/png": "[encoded data removed]",
            "text/plain": [
              "<Figure size 360x360 with 1 Axes>"
            ]
          },
          "metadata": {
            "tags": [],
            "needs_background": "light"
          }
        }
      ]
    },
    {
      "cell_type": "code",
      "metadata": {
        "colab": {
          "base_uri": "https://localhost:8080/",
          "height": 386
        },
        "id": "dA1RrgzswokU",
        "outputId": "9642a26b-2480-4b90-9ba8-6a641274c63c"
      },
      "source": [
        "p = sns.catplot(x=\"Parking\", y=\"House_Price\", kind=\"box\", data=CAT_C)"
      ],
      "execution_count": 15,
      "outputs": [
        {
          "output_type": "display_data",
          "data": {
            "image/png": "[encoded data removed]",
            "text/plain": [
              "<Figure size 360x360 with 1 Axes>"
            ]
          },
          "metadata": {
            "tags": [],
            "needs_background": "light"
          }
        }
      ]
    },
    {
      "cell_type": "markdown",
      "metadata": {
        "id": "5F6wHdeKxRK_"
      },
      "source": [
        "######Catatan: Dari hasil outliers dibawah tidak sesuai dengan jumlah outliers yang didapatkan dari bentuk boxplot yang dibuat dari setiap Kategori"
      ]
    },
    {
      "cell_type": "code",
      "metadata": {
        "colab": {
          "base_uri": "https://localhost:8080/",
          "height": 130
        },
        "id": "Uej8sUuywr3h",
        "outputId": "8c5be1f4-edbe-492a-9b78-0e5b226efd00"
      },
      "source": [
        "#Outliers bawah Kategori A\n",
        "Q1_A = CAT_A['House_Price'].quantile(0.25)\n",
        "Q3_A = CAT_A['House_Price'].quantile(0.75)\n",
        "IQR_A = Q3_A - Q1_A\n",
        "print(\"Q1_A ={}, Q3_A ={}, IQR_A ={}\".format(Q1_A, Q3_A, IQR_A))\n",
        "\n",
        "outliers_bawah_A = (CAT_A['House_Price'] < (Q1_A - 1.5 * IQR_A))\n",
        "rumah_potensial_A = CAT_A.loc[outliers_bawah_A]\n",
        "rumah_potensial_A"
      ],
      "execution_count": 16,
      "outputs": [
        {
          "output_type": "stream",
          "text": [
            "Q1_A =6600000.0, Q3_A =8184000.0, IQR_A =1584000.0\n"
          ],
          "name": "stdout"
        },
        {
          "output_type": "execute_result",
          "data": {
            "text/html": [
              "<div>\n",
              "<style scoped>\n",
              "    .dataframe tbody tr th:only-of-type {\n",
              "        vertical-align: middle;\n",
              "    }\n",
              "\n",
              "    .dataframe tbody tr th {\n",
              "        vertical-align: top;\n",
              "    }\n",
              "\n",
              "    .dataframe thead th {\n",
              "        text-align: right;\n",
              "    }\n",
              "</style>\n",
              "<table border=\"1\" class=\"dataframe\">\n",
              "  <thead>\n",
              "    <tr style=\"text-align: right;\">\n",
              "      <th></th>\n",
              "      <th>Dist_Taxi</th>\n",
              "      <th>Dist_Market</th>\n",
              "      <th>Dist_Hospital</th>\n",
              "      <th>Carpet</th>\n",
              "      <th>Builtup</th>\n",
              "      <th>Parking</th>\n",
              "      <th>City_Category</th>\n",
              "      <th>Rainfall</th>\n",
              "      <th>House_Price</th>\n",
              "    </tr>\n",
              "  </thead>\n",
              "  <tbody>\n",
              "    <tr>\n",
              "      <th>409</th>\n",
              "      <td>8773.0</td>\n",
              "      <td>13547.0</td>\n",
              "      <td>15551.0</td>\n",
              "      <td>1509.0</td>\n",
              "      <td>1799.0</td>\n",
              "      <td>No Parking</td>\n",
              "      <td>CAT A</td>\n",
              "      <td>960</td>\n",
              "      <td>3860000</td>\n",
              "    </tr>\n",
              "    <tr>\n",
              "      <th>811</th>\n",
              "      <td>NaN</td>\n",
              "      <td>NaN</td>\n",
              "      <td>NaN</td>\n",
              "      <td>NaN</td>\n",
              "      <td>NaN</td>\n",
              "      <td>Open</td>\n",
              "      <td>CAT A</td>\n",
              "      <td>440</td>\n",
              "      <td>30000</td>\n",
              "    </tr>\n",
              "  </tbody>\n",
              "</table>\n",
              "</div>"
            ],
            "text/plain": [
              "     Dist_Taxi  Dist_Market  Dist_Hospital  ...  City_Category  Rainfall House_Price\n",
              "409     8773.0      13547.0        15551.0  ...          CAT A       960     3860000\n",
              "811        NaN          NaN            NaN  ...          CAT A       440       30000\n",
              "\n",
              "[2 rows x 9 columns]"
            ]
          },
          "metadata": {
            "tags": []
          },
          "execution_count": 16
        }
      ]
    },
    {
      "cell_type": "code",
      "metadata": {
        "colab": {
          "base_uri": "https://localhost:8080/",
          "height": 99
        },
        "id": "bd8v2AWAwzL4",
        "outputId": "959030af-d99d-446e-af6e-3248e6efc5ea"
      },
      "source": [
        "#Outliers atas Kategori A\n",
        "Q1_A = CAT_A['House_Price'].quantile(0.25)\n",
        "Q3_A = CAT_A['House_Price'].quantile(0.75)\n",
        "IQR_A = Q3_A - Q1_A\n",
        "print(\"Q1_A ={}, Q3_A ={}, IQR_A ={}\".format(Q1_A, Q3_A, IQR_A))\n",
        "\n",
        "outliers_atas_A = (CAT_A['House_Price'] > (Q3_A + 1.5 * IQR_A))\n",
        "rumah_overprice_A = CAT_A.loc[outliers_atas_A]\n",
        "rumah_overprice_A"
      ],
      "execution_count": 19,
      "outputs": [
        {
          "output_type": "stream",
          "text": [
            "Q1_A =6600000.0, Q3_A =8184000.0, IQR_A =1584000.0\n"
          ],
          "name": "stdout"
        },
        {
          "output_type": "execute_result",
          "data": {
            "text/html": [
              "<div>\n",
              "<style scoped>\n",
              "    .dataframe tbody tr th:only-of-type {\n",
              "        vertical-align: middle;\n",
              "    }\n",
              "\n",
              "    .dataframe tbody tr th {\n",
              "        vertical-align: top;\n",
              "    }\n",
              "\n",
              "    .dataframe thead th {\n",
              "        text-align: right;\n",
              "    }\n",
              "</style>\n",
              "<table border=\"1\" class=\"dataframe\">\n",
              "  <thead>\n",
              "    <tr style=\"text-align: right;\">\n",
              "      <th></th>\n",
              "      <th>Dist_Taxi</th>\n",
              "      <th>Dist_Market</th>\n",
              "      <th>Dist_Hospital</th>\n",
              "      <th>Carpet</th>\n",
              "      <th>Builtup</th>\n",
              "      <th>Parking</th>\n",
              "      <th>City_Category</th>\n",
              "      <th>Rainfall</th>\n",
              "      <th>House_Price</th>\n",
              "    </tr>\n",
              "  </thead>\n",
              "  <tbody>\n",
              "    <tr>\n",
              "      <th>678</th>\n",
              "      <td>7288.0</td>\n",
              "      <td>9560.0</td>\n",
              "      <td>12531.0</td>\n",
              "      <td>1989.0</td>\n",
              "      <td>2414.0</td>\n",
              "      <td>No Parking</td>\n",
              "      <td>CAT A</td>\n",
              "      <td>860</td>\n",
              "      <td>11632000</td>\n",
              "    </tr>\n",
              "  </tbody>\n",
              "</table>\n",
              "</div>"
            ],
            "text/plain": [
              "     Dist_Taxi  Dist_Market  Dist_Hospital  ...  City_Category  Rainfall House_Price\n",
              "678     7288.0       9560.0        12531.0  ...          CAT A       860    11632000\n",
              "\n",
              "[1 rows x 9 columns]"
            ]
          },
          "metadata": {
            "tags": []
          },
          "execution_count": 19
        }
      ]
    },
    {
      "cell_type": "code",
      "metadata": {
        "colab": {
          "base_uri": "https://localhost:8080/",
          "height": 68
        },
        "id": "3iEMEhkXwvJu",
        "outputId": "1f5ef07e-46dc-4c32-cfc6-ae7b85f88266"
      },
      "source": [
        "#Outliers bawah Kategori B\n",
        "Q1_B = CAT_B['House_Price'].quantile(0.25)\n",
        "Q3_B = CAT_B['House_Price'].quantile(0.75)\n",
        "IQR_B = Q3_B - Q1_B\n",
        "print(\"Q1_B ={}, Q3_B ={}, IQR_B ={}\".format(Q1_B, Q3_B, IQR_B))\n",
        "\n",
        "outliers_bawah_B = (CAT_B['House_Price'] < (Q1_B - 1.5 * IQR_B))\n",
        "rumah_potensial_B = CAT_B.loc[outliers_bawah_B]\n",
        "rumah_potensial_B"
      ],
      "execution_count": 17,
      "outputs": [
        {
          "output_type": "stream",
          "text": [
            "Q1_B =4617750.0, Q3_B =6378500.0, IQR_B =1760750.0\n"
          ],
          "name": "stdout"
        },
        {
          "output_type": "execute_result",
          "data": {
            "text/html": [
              "<div>\n",
              "<style scoped>\n",
              "    .dataframe tbody tr th:only-of-type {\n",
              "        vertical-align: middle;\n",
              "    }\n",
              "\n",
              "    .dataframe tbody tr th {\n",
              "        vertical-align: top;\n",
              "    }\n",
              "\n",
              "    .dataframe thead th {\n",
              "        text-align: right;\n",
              "    }\n",
              "</style>\n",
              "<table border=\"1\" class=\"dataframe\">\n",
              "  <thead>\n",
              "    <tr style=\"text-align: right;\">\n",
              "      <th></th>\n",
              "      <th>Dist_Taxi</th>\n",
              "      <th>Dist_Market</th>\n",
              "      <th>Dist_Hospital</th>\n",
              "      <th>Carpet</th>\n",
              "      <th>Builtup</th>\n",
              "      <th>Parking</th>\n",
              "      <th>City_Category</th>\n",
              "      <th>Rainfall</th>\n",
              "      <th>House_Price</th>\n",
              "    </tr>\n",
              "  </thead>\n",
              "  <tbody>\n",
              "  </tbody>\n",
              "</table>\n",
              "</div>"
            ],
            "text/plain": [
              "Empty DataFrame\n",
              "Columns: [Dist_Taxi, Dist_Market, Dist_Hospital, Carpet, Builtup, Parking, City_Category, Rainfall, House_Price]\n",
              "Index: []"
            ]
          },
          "metadata": {
            "tags": []
          },
          "execution_count": 17
        }
      ]
    },
    {
      "cell_type": "code",
      "metadata": {
        "colab": {
          "base_uri": "https://localhost:8080/",
          "height": 162
        },
        "id": "wrkrGYXrw_Pp",
        "outputId": "9ed38e76-8106-4490-cb4c-4ea0c048ed96"
      },
      "source": [
        "#Outliers atas Kategori B\n",
        "Q1_B = CAT_B['House_Price'].quantile(0.25)\n",
        "Q3_B = CAT_B['House_Price'].quantile(0.75)\n",
        "IQR_B = Q3_B - Q1_B\n",
        "print(\"Q1_B ={}, Q3_B ={}, IQR_B ={}\".format(Q1_B, Q3_B, IQR_B))\n",
        "\n",
        "outliers_atas_B = (CAT_B['House_Price'] > (Q3_B + 1.5 * IQR_B))\n",
        "rumah_overprice_B = CAT_B.loc[outliers_atas_B]\n",
        "rumah_overprice_B"
      ],
      "execution_count": 20,
      "outputs": [
        {
          "output_type": "stream",
          "text": [
            "Q1_B =4617750.0, Q3_B =6378500.0, IQR_B =1760750.0\n"
          ],
          "name": "stdout"
        },
        {
          "output_type": "execute_result",
          "data": {
            "text/html": [
              "<div>\n",
              "<style scoped>\n",
              "    .dataframe tbody tr th:only-of-type {\n",
              "        vertical-align: middle;\n",
              "    }\n",
              "\n",
              "    .dataframe tbody tr th {\n",
              "        vertical-align: top;\n",
              "    }\n",
              "\n",
              "    .dataframe thead th {\n",
              "        text-align: right;\n",
              "    }\n",
              "</style>\n",
              "<table border=\"1\" class=\"dataframe\">\n",
              "  <thead>\n",
              "    <tr style=\"text-align: right;\">\n",
              "      <th></th>\n",
              "      <th>Dist_Taxi</th>\n",
              "      <th>Dist_Market</th>\n",
              "      <th>Dist_Hospital</th>\n",
              "      <th>Carpet</th>\n",
              "      <th>Builtup</th>\n",
              "      <th>Parking</th>\n",
              "      <th>City_Category</th>\n",
              "      <th>Rainfall</th>\n",
              "      <th>House_Price</th>\n",
              "    </tr>\n",
              "  </thead>\n",
              "  <tbody>\n",
              "    <tr>\n",
              "      <th>725</th>\n",
              "      <td>10989.0</td>\n",
              "      <td>13153.0</td>\n",
              "      <td>13797.0</td>\n",
              "      <td>1645.0</td>\n",
              "      <td>1958.0</td>\n",
              "      <td>Covered</td>\n",
              "      <td>CAT B</td>\n",
              "      <td>530</td>\n",
              "      <td>9336000</td>\n",
              "    </tr>\n",
              "    <tr>\n",
              "      <th>763</th>\n",
              "      <td>8274.0</td>\n",
              "      <td>11673.0</td>\n",
              "      <td>13345.0</td>\n",
              "      <td>1641.0</td>\n",
              "      <td>1999.0</td>\n",
              "      <td>Covered</td>\n",
              "      <td>CAT B</td>\n",
              "      <td>950</td>\n",
              "      <td>9300000</td>\n",
              "    </tr>\n",
              "    <tr>\n",
              "      <th>930</th>\n",
              "      <td>15082.0</td>\n",
              "      <td>14700.0</td>\n",
              "      <td>19617.0</td>\n",
              "      <td>1299.0</td>\n",
              "      <td>1560.0</td>\n",
              "      <td>Open</td>\n",
              "      <td>CAT B</td>\n",
              "      <td>770</td>\n",
              "      <td>9661000</td>\n",
              "    </tr>\n",
              "  </tbody>\n",
              "</table>\n",
              "</div>"
            ],
            "text/plain": [
              "     Dist_Taxi  Dist_Market  Dist_Hospital  ...  City_Category  Rainfall House_Price\n",
              "725    10989.0      13153.0        13797.0  ...          CAT B       530     9336000\n",
              "763     8274.0      11673.0        13345.0  ...          CAT B       950     9300000\n",
              "930    15082.0      14700.0        19617.0  ...          CAT B       770     9661000\n",
              "\n",
              "[3 rows x 9 columns]"
            ]
          },
          "metadata": {
            "tags": []
          },
          "execution_count": 20
        }
      ]
    },
    {
      "cell_type": "code",
      "metadata": {
        "colab": {
          "base_uri": "https://localhost:8080/",
          "height": 68
        },
        "id": "Ct-JAcYOwws-",
        "outputId": "c711b812-6804-4c4c-ed8e-e2fcdf1d0bfb"
      },
      "source": [
        "#Outliers bawah Kategori C\n",
        "Q1_C = CAT_C['House_Price'].quantile(0.25)\n",
        "Q3_C = CAT_C['House_Price'].quantile(0.75)\n",
        "IQR_C = Q3_C - Q1_C\n",
        "print(\"Q1_C ={}, Q3_C ={}, IQR_C ={}\".format(Q1_C, Q3_C, IQR_C))\n",
        "\n",
        "outliers_bawah_C = (CAT_C['House_Price'] < (Q1_C - 1.5 * IQR_C))\n",
        "rumah_potensial_C = CAT_C.loc[outliers_bawah_C]\n",
        "rumah_potensial_C"
      ],
      "execution_count": 18,
      "outputs": [
        {
          "output_type": "stream",
          "text": [
            "Q1_C =3642500.0, Q3_C =5244500.0, IQR_C =1602000.0\n"
          ],
          "name": "stdout"
        },
        {
          "output_type": "execute_result",
          "data": {
            "text/html": [
              "<div>\n",
              "<style scoped>\n",
              "    .dataframe tbody tr th:only-of-type {\n",
              "        vertical-align: middle;\n",
              "    }\n",
              "\n",
              "    .dataframe tbody tr th {\n",
              "        vertical-align: top;\n",
              "    }\n",
              "\n",
              "    .dataframe thead th {\n",
              "        text-align: right;\n",
              "    }\n",
              "</style>\n",
              "<table border=\"1\" class=\"dataframe\">\n",
              "  <thead>\n",
              "    <tr style=\"text-align: right;\">\n",
              "      <th></th>\n",
              "      <th>Dist_Taxi</th>\n",
              "      <th>Dist_Market</th>\n",
              "      <th>Dist_Hospital</th>\n",
              "      <th>Carpet</th>\n",
              "      <th>Builtup</th>\n",
              "      <th>Parking</th>\n",
              "      <th>City_Category</th>\n",
              "      <th>Rainfall</th>\n",
              "      <th>House_Price</th>\n",
              "    </tr>\n",
              "  </thead>\n",
              "  <tbody>\n",
              "  </tbody>\n",
              "</table>\n",
              "</div>"
            ],
            "text/plain": [
              "Empty DataFrame\n",
              "Columns: [Dist_Taxi, Dist_Market, Dist_Hospital, Carpet, Builtup, Parking, City_Category, Rainfall, House_Price]\n",
              "Index: []"
            ]
          },
          "metadata": {
            "tags": []
          },
          "execution_count": 18
        }
      ]
    },
    {
      "cell_type": "code",
      "metadata": {
        "colab": {
          "base_uri": "https://localhost:8080/",
          "height": 130
        },
        "id": "upLy5Zelw_Tx",
        "outputId": "a534a43f-787f-48bf-a55c-ede9e35042be"
      },
      "source": [
        "#Outliers atas Kategori C\n",
        "Q1_C = CAT_C['House_Price'].quantile(0.25)\n",
        "Q3_C = CAT_C['House_Price'].quantile(0.75)\n",
        "IQR_C = Q3_C - Q1_C\n",
        "print(\"Q1_C ={}, Q3_C ={}, IQR_C ={}\".format(Q1_C, Q3_C, IQR_C))\n",
        "\n",
        "outliers_atas_C = (CAT_C['House_Price'] > (Q3_C + 1.5 * IQR_C))\n",
        "rumah_overprice_C = CAT_C.loc[outliers_atas_C]\n",
        "rumah_overprice_C"
      ],
      "execution_count": 21,
      "outputs": [
        {
          "output_type": "stream",
          "text": [
            "Q1_C =3642500.0, Q3_C =5244500.0, IQR_C =1602000.0\n"
          ],
          "name": "stdout"
        },
        {
          "output_type": "execute_result",
          "data": {
            "text/html": [
              "<div>\n",
              "<style scoped>\n",
              "    .dataframe tbody tr th:only-of-type {\n",
              "        vertical-align: middle;\n",
              "    }\n",
              "\n",
              "    .dataframe tbody tr th {\n",
              "        vertical-align: top;\n",
              "    }\n",
              "\n",
              "    .dataframe thead th {\n",
              "        text-align: right;\n",
              "    }\n",
              "</style>\n",
              "<table border=\"1\" class=\"dataframe\">\n",
              "  <thead>\n",
              "    <tr style=\"text-align: right;\">\n",
              "      <th></th>\n",
              "      <th>Dist_Taxi</th>\n",
              "      <th>Dist_Market</th>\n",
              "      <th>Dist_Hospital</th>\n",
              "      <th>Carpet</th>\n",
              "      <th>Builtup</th>\n",
              "      <th>Parking</th>\n",
              "      <th>City_Category</th>\n",
              "      <th>Rainfall</th>\n",
              "      <th>House_Price</th>\n",
              "    </tr>\n",
              "  </thead>\n",
              "  <tbody>\n",
              "    <tr>\n",
              "      <th>346</th>\n",
              "      <td>9119.0</td>\n",
              "      <td>11639.0</td>\n",
              "      <td>14374.0</td>\n",
              "      <td>1633.0</td>\n",
              "      <td>1968.0</td>\n",
              "      <td>Open</td>\n",
              "      <td>CAT C</td>\n",
              "      <td>330</td>\n",
              "      <td>8147000</td>\n",
              "    </tr>\n",
              "    <tr>\n",
              "      <th>847</th>\n",
              "      <td>8740.0</td>\n",
              "      <td>10899.0</td>\n",
              "      <td>13447.0</td>\n",
              "      <td>1873.0</td>\n",
              "      <td>2252.0</td>\n",
              "      <td>Covered</td>\n",
              "      <td>CAT C</td>\n",
              "      <td>330</td>\n",
              "      <td>7931000</td>\n",
              "    </tr>\n",
              "  </tbody>\n",
              "</table>\n",
              "</div>"
            ],
            "text/plain": [
              "     Dist_Taxi  Dist_Market  Dist_Hospital  ...  City_Category  Rainfall House_Price\n",
              "346     9119.0      11639.0        14374.0  ...          CAT C       330     8147000\n",
              "847     8740.0      10899.0        13447.0  ...          CAT C       330     7931000\n",
              "\n",
              "[2 rows x 9 columns]"
            ]
          },
          "metadata": {
            "tags": []
          },
          "execution_count": 21
        }
      ]
    },
    {
      "cell_type": "code",
      "metadata": {
        "colab": {
          "base_uri": "https://localhost:8080/"
        },
        "id": "FoAyys1UxdlG",
        "outputId": "b74a2244-7e30-46ff-9393-d3f5c9c7bcc2"
      },
      "source": [
        "Q1_A - 1.5 * IQR_A"
      ],
      "execution_count": 22,
      "outputs": [
        {
          "output_type": "execute_result",
          "data": {
            "text/plain": [
              "4224000.0"
            ]
          },
          "metadata": {
            "tags": []
          },
          "execution_count": 22
        }
      ]
    },
    {
      "cell_type": "code",
      "metadata": {
        "colab": {
          "base_uri": "https://localhost:8080/",
          "height": 112
        },
        "id": "jfXpwbIEx4Xz",
        "outputId": "64036b4a-cd5c-4037-ad87-ceed3f2b9be2"
      },
      "source": [
        "CAT_A.loc[CAT_A['House_Price'] < 4224000]"
      ],
      "execution_count": 23,
      "outputs": [
        {
          "output_type": "execute_result",
          "data": {
            "text/html": [
              "<div>\n",
              "<style scoped>\n",
              "    .dataframe tbody tr th:only-of-type {\n",
              "        vertical-align: middle;\n",
              "    }\n",
              "\n",
              "    .dataframe tbody tr th {\n",
              "        vertical-align: top;\n",
              "    }\n",
              "\n",
              "    .dataframe thead th {\n",
              "        text-align: right;\n",
              "    }\n",
              "</style>\n",
              "<table border=\"1\" class=\"dataframe\">\n",
              "  <thead>\n",
              "    <tr style=\"text-align: right;\">\n",
              "      <th></th>\n",
              "      <th>Dist_Taxi</th>\n",
              "      <th>Dist_Market</th>\n",
              "      <th>Dist_Hospital</th>\n",
              "      <th>Carpet</th>\n",
              "      <th>Builtup</th>\n",
              "      <th>Parking</th>\n",
              "      <th>City_Category</th>\n",
              "      <th>Rainfall</th>\n",
              "      <th>House_Price</th>\n",
              "    </tr>\n",
              "  </thead>\n",
              "  <tbody>\n",
              "    <tr>\n",
              "      <th>409</th>\n",
              "      <td>8773.0</td>\n",
              "      <td>13547.0</td>\n",
              "      <td>15551.0</td>\n",
              "      <td>1509.0</td>\n",
              "      <td>1799.0</td>\n",
              "      <td>No Parking</td>\n",
              "      <td>CAT A</td>\n",
              "      <td>960</td>\n",
              "      <td>3860000</td>\n",
              "    </tr>\n",
              "    <tr>\n",
              "      <th>811</th>\n",
              "      <td>NaN</td>\n",
              "      <td>NaN</td>\n",
              "      <td>NaN</td>\n",
              "      <td>NaN</td>\n",
              "      <td>NaN</td>\n",
              "      <td>Open</td>\n",
              "      <td>CAT A</td>\n",
              "      <td>440</td>\n",
              "      <td>30000</td>\n",
              "    </tr>\n",
              "  </tbody>\n",
              "</table>\n",
              "</div>"
            ],
            "text/plain": [
              "     Dist_Taxi  Dist_Market  Dist_Hospital  ...  City_Category  Rainfall House_Price\n",
              "409     8773.0      13547.0        15551.0  ...          CAT A       960     3860000\n",
              "811        NaN          NaN            NaN  ...          CAT A       440       30000\n",
              "\n",
              "[2 rows x 9 columns]"
            ]
          },
          "metadata": {
            "tags": []
          },
          "execution_count": 23
        }
      ]
    },
    {
      "cell_type": "code",
      "metadata": {
        "id": "mPNzMyLiyERz"
      },
      "source": [
        ""
      ],
      "execution_count": null,
      "outputs": []
    },
    {
      "cell_type": "markdown",
      "metadata": {
        "id": "0aBexaShyNH4"
      },
      "source": [
        "###**Tugas 3**"
      ]
    },
    {
      "cell_type": "markdown",
      "metadata": {
        "id": "uSx_boXEyWXE"
      },
      "source": [
        "#### Latihan Studi Kasus: Data Tips Restaurant\n",
        "\n",
        "Sebuah dataset dari suatu Restaurant memuat variabel-variabel berikut:\n",
        "*\ttotal_bill: Total bill (cost of the meal), including tax, in US dollars\n",
        "*\ttip: Tip (gratuity) in US dollars\n",
        "*\tsex: Sex of person paying for the meal (0=male, 1=female)\n",
        "*\tsmoker: Smoker in party? (0=No, 1=Yes)\n",
        "*\tday: 3=Thur, 4=Fri, 5=Sat, 6=Sun\n",
        "*\ttime: 0=Day, 1=Night\n",
        "*\tsize: Size of the party\n",
        "\n",
        "https://www.kaggle.com/ranjeetjain3/seaborn-tips-dataset"
      ]
    },
    {
      "cell_type": "code",
      "metadata": {
        "colab": {
          "base_uri": "https://localhost:8080/",
          "height": 225
        },
        "id": "rZn9MVklyXAn",
        "outputId": "698b14ac-61cd-46e7-dca2-1021fff2317d"
      },
      "source": [
        "# Loading Contoh Data studi kasus pertama di atas\n",
        "tips = sns.load_dataset('tips') # Loading dari SeaBorn library's dataset\n",
        "# Ukuran Data\n",
        "N, P = tips.shape\n",
        "print('baris = ', N, ', Kolom = ', P)\n",
        "\n",
        "tips.head()"
      ],
      "execution_count": 24,
      "outputs": [
        {
          "output_type": "stream",
          "text": [
            "baris =  244 , Kolom =  7\n"
          ],
          "name": "stdout"
        },
        {
          "output_type": "execute_result",
          "data": {
            "text/html": [
              "<div>\n",
              "<style scoped>\n",
              "    .dataframe tbody tr th:only-of-type {\n",
              "        vertical-align: middle;\n",
              "    }\n",
              "\n",
              "    .dataframe tbody tr th {\n",
              "        vertical-align: top;\n",
              "    }\n",
              "\n",
              "    .dataframe thead th {\n",
              "        text-align: right;\n",
              "    }\n",
              "</style>\n",
              "<table border=\"1\" class=\"dataframe\">\n",
              "  <thead>\n",
              "    <tr style=\"text-align: right;\">\n",
              "      <th></th>\n",
              "      <th>total_bill</th>\n",
              "      <th>tip</th>\n",
              "      <th>sex</th>\n",
              "      <th>smoker</th>\n",
              "      <th>day</th>\n",
              "      <th>time</th>\n",
              "      <th>size</th>\n",
              "    </tr>\n",
              "  </thead>\n",
              "  <tbody>\n",
              "    <tr>\n",
              "      <th>0</th>\n",
              "      <td>16.99</td>\n",
              "      <td>1.01</td>\n",
              "      <td>Female</td>\n",
              "      <td>No</td>\n",
              "      <td>Sun</td>\n",
              "      <td>Dinner</td>\n",
              "      <td>2</td>\n",
              "    </tr>\n",
              "    <tr>\n",
              "      <th>1</th>\n",
              "      <td>10.34</td>\n",
              "      <td>1.66</td>\n",
              "      <td>Male</td>\n",
              "      <td>No</td>\n",
              "      <td>Sun</td>\n",
              "      <td>Dinner</td>\n",
              "      <td>3</td>\n",
              "    </tr>\n",
              "    <tr>\n",
              "      <th>2</th>\n",
              "      <td>21.01</td>\n",
              "      <td>3.50</td>\n",
              "      <td>Male</td>\n",
              "      <td>No</td>\n",
              "      <td>Sun</td>\n",
              "      <td>Dinner</td>\n",
              "      <td>3</td>\n",
              "    </tr>\n",
              "    <tr>\n",
              "      <th>3</th>\n",
              "      <td>23.68</td>\n",
              "      <td>3.31</td>\n",
              "      <td>Male</td>\n",
              "      <td>No</td>\n",
              "      <td>Sun</td>\n",
              "      <td>Dinner</td>\n",
              "      <td>2</td>\n",
              "    </tr>\n",
              "    <tr>\n",
              "      <th>4</th>\n",
              "      <td>24.59</td>\n",
              "      <td>3.61</td>\n",
              "      <td>Female</td>\n",
              "      <td>No</td>\n",
              "      <td>Sun</td>\n",
              "      <td>Dinner</td>\n",
              "      <td>4</td>\n",
              "    </tr>\n",
              "  </tbody>\n",
              "</table>\n",
              "</div>"
            ],
            "text/plain": [
              "   total_bill   tip     sex smoker  day    time  size\n",
              "0       16.99  1.01  Female     No  Sun  Dinner     2\n",
              "1       10.34  1.66    Male     No  Sun  Dinner     3\n",
              "2       21.01  3.50    Male     No  Sun  Dinner     3\n",
              "3       23.68  3.31    Male     No  Sun  Dinner     2\n",
              "4       24.59  3.61  Female     No  Sun  Dinner     4"
            ]
          },
          "metadata": {
            "tags": []
          },
          "execution_count": 24
        }
      ]
    },
    {
      "cell_type": "markdown",
      "metadata": {
        "id": "69-fufePy4uN"
      },
      "source": [
        "#### Latihan:\n",
        "\n",
        "#### Silahkan Latihan untuk menjawab pertanyaan-pertanyaan berikut:\n",
        "\n",
        "1. Adakah tipe variabel yang kurang tepat di data tersebut?\n",
        "2. Apakah data numeriknya cenderung berdistribusi normal?\n",
        "3. Apakah ada outlier, noise, missing values, dan-atau duplikasi data?\n",
        "4. Apakah pelanggan pria dan wanita cenderung proporsional (balance)?\n",
        "5. Dari data yang ada apakah Pria atau wanita ada kecenderungan memberi tips lebih besar?\n",
        "6. Dari data yang ada apakah ada kecenderungan tips lebih besar di hari-hari tertentu?\n",
        "7. Dari data yang ada apakah customer perokok cenderung memberi tips lebih besar?\n",
        "8. Apakah pola di nomer 5 dan 7 dipengaruhi hari?\n",
        "9. Pola apalagi yang dapat anda temukan? (misal, bisakah anda menyarankan tata letak kursi/meja restaurant dari data ini?)\n",
        "9. Final question: dari hasil EDA anda saran apa saja yang akan anda berikan ke pemilik restaurant? \n",
        "\n",
        "* Skills/kompetensi apa yang terasa sangat diperlukan dari latihan ini?"
      ]
    },
    {
      "cell_type": "markdown",
      "metadata": {
        "id": "QIM5zDRlzAyX"
      },
      "source": [
        "1. Adakah tipe variabel yang kurang tepat di data tersebut?"
      ]
    },
    {
      "cell_type": "code",
      "metadata": {
        "colab": {
          "base_uri": "https://localhost:8080/"
        },
        "id": "qPyBdOKTzDoZ",
        "outputId": "1dac6531-8858-47d1-a5c7-9ea010be705a"
      },
      "source": [
        "tips.info()"
      ],
      "execution_count": 26,
      "outputs": [
        {
          "output_type": "stream",
          "text": [
            "<class 'pandas.core.frame.DataFrame'>\n",
            "RangeIndex: 244 entries, 0 to 243\n",
            "Data columns (total 7 columns):\n",
            " #   Column      Non-Null Count  Dtype   \n",
            "---  ------      --------------  -----   \n",
            " 0   total_bill  244 non-null    float64 \n",
            " 1   tip         244 non-null    float64 \n",
            " 2   sex         244 non-null    category\n",
            " 3   smoker      244 non-null    category\n",
            " 4   day         244 non-null    category\n",
            " 5   time        244 non-null    category\n",
            " 6   size        244 non-null    int64   \n",
            "dtypes: category(4), float64(2), int64(1)\n",
            "memory usage: 7.3 KB\n"
          ],
          "name": "stdout"
        }
      ]
    },
    {
      "cell_type": "code",
      "metadata": {
        "id": "hvIynZfNCdXn"
      },
      "source": [
        ""
      ],
      "execution_count": null,
      "outputs": []
    },
    {
      "cell_type": "code",
      "metadata": {
        "colab": {
          "base_uri": "https://localhost:8080/"
        },
        "id": "4TUdZwQ8z9K8",
        "outputId": "f06e2646-24a9-4ca2-e59d-3915248656e9"
      },
      "source": [
        "tips[\"size\"].unique()"
      ],
      "execution_count": 27,
      "outputs": [
        {
          "output_type": "execute_result",
          "data": {
            "text/plain": [
              "array([2, 3, 4, 1, 6, 5])"
            ]
          },
          "metadata": {
            "tags": []
          },
          "execution_count": 27
        }
      ]
    },
    {
      "cell_type": "markdown",
      "metadata": {
        "id": "pT25XK4qzZsX"
      },
      "source": [
        "Dari data tersebut, variabel \"size\" ada indikasi tipe variabelnya berupa kategorik, karena nilai datanya tidak disertai satuan ukuran tertentu. Rentang nilai dari data \"size\" tersebut juga berada pada rentang 1 sampai 6 sehingga menurut kami nilai dari \"size\" menunjukkan kategori tertentu"
      ]
    },
    {
      "cell_type": "markdown",
      "metadata": {
        "id": "GfOWN9BR1Hwn"
      },
      "source": [
        "2. Apakah data numeriknya cenderung berdistribusi normal?"
      ]
    },
    {
      "cell_type": "code",
      "metadata": {
        "colab": {
          "base_uri": "https://localhost:8080/",
          "height": 305
        },
        "id": "czwBJS6a036o",
        "outputId": "a25d4851-5492-4171-aa20-481fc4af88cf"
      },
      "source": [
        "sns.distplot( a=tips[\"total_bill\"])"
      ],
      "execution_count": 28,
      "outputs": [
        {
          "output_type": "execute_result",
          "data": {
            "text/plain": [
              "<matplotlib.axes._subplots.AxesSubplot at 0x7fe7bc9fb410>"
            ]
          },
          "metadata": {
            "tags": []
          },
          "execution_count": 28
        },
        {
          "output_type": "display_data",
          "data": {
            "image/png": "[encoded data removed]",
            "text/plain": [
              "<Figure size 432x288 with 1 Axes>"
            ]
          },
          "metadata": {
            "tags": [],
            "needs_background": "light"
          }
        }
      ]
    },
    {
      "cell_type": "code",
      "metadata": {
        "colab": {
          "base_uri": "https://localhost:8080/",
          "height": 303
        },
        "id": "EyRfFsXC1TFD",
        "outputId": "90888915-164a-4873-81de-64f5620b701f"
      },
      "source": [
        "sns.distplot( a=tips[\"tip\"])"
      ],
      "execution_count": 29,
      "outputs": [
        {
          "output_type": "execute_result",
          "data": {
            "text/plain": [
              "<matplotlib.axes._subplots.AxesSubplot at 0x7fe7c15f7d10>"
            ]
          },
          "metadata": {
            "tags": []
          },
          "execution_count": 29
        },
        {
          "output_type": "display_data",
          "data": {
            "image/png": "[encoded data removed]",
            "text/plain": [
              "<Figure size 432x288 with 1 Axes>"
            ]
          },
          "metadata": {
            "tags": [],
            "needs_background": "light"
          }
        }
      ]
    },
    {
      "cell_type": "code",
      "metadata": {
        "colab": {
          "base_uri": "https://localhost:8080/",
          "height": 300
        },
        "id": "p5gQqL8R2OqN",
        "outputId": "aec1f449-8018-489a-8f17-4a48d8ff3aa9"
      },
      "source": [
        "tips.describe()"
      ],
      "execution_count": 30,
      "outputs": [
        {
          "output_type": "execute_result",
          "data": {
            "text/html": [
              "<div>\n",
              "<style scoped>\n",
              "    .dataframe tbody tr th:only-of-type {\n",
              "        vertical-align: middle;\n",
              "    }\n",
              "\n",
              "    .dataframe tbody tr th {\n",
              "        vertical-align: top;\n",
              "    }\n",
              "\n",
              "    .dataframe thead th {\n",
              "        text-align: right;\n",
              "    }\n",
              "</style>\n",
              "<table border=\"1\" class=\"dataframe\">\n",
              "  <thead>\n",
              "    <tr style=\"text-align: right;\">\n",
              "      <th></th>\n",
              "      <th>total_bill</th>\n",
              "      <th>tip</th>\n",
              "      <th>size</th>\n",
              "    </tr>\n",
              "  </thead>\n",
              "  <tbody>\n",
              "    <tr>\n",
              "      <th>count</th>\n",
              "      <td>244.000000</td>\n",
              "      <td>244.000000</td>\n",
              "      <td>244.000000</td>\n",
              "    </tr>\n",
              "    <tr>\n",
              "      <th>mean</th>\n",
              "      <td>19.785943</td>\n",
              "      <td>2.998279</td>\n",
              "      <td>2.569672</td>\n",
              "    </tr>\n",
              "    <tr>\n",
              "      <th>std</th>\n",
              "      <td>8.902412</td>\n",
              "      <td>1.383638</td>\n",
              "      <td>0.951100</td>\n",
              "    </tr>\n",
              "    <tr>\n",
              "      <th>min</th>\n",
              "      <td>3.070000</td>\n",
              "      <td>1.000000</td>\n",
              "      <td>1.000000</td>\n",
              "    </tr>\n",
              "    <tr>\n",
              "      <th>25%</th>\n",
              "      <td>13.347500</td>\n",
              "      <td>2.000000</td>\n",
              "      <td>2.000000</td>\n",
              "    </tr>\n",
              "    <tr>\n",
              "      <th>50%</th>\n",
              "      <td>17.795000</td>\n",
              "      <td>2.900000</td>\n",
              "      <td>2.000000</td>\n",
              "    </tr>\n",
              "    <tr>\n",
              "      <th>75%</th>\n",
              "      <td>24.127500</td>\n",
              "      <td>3.562500</td>\n",
              "      <td>3.000000</td>\n",
              "    </tr>\n",
              "    <tr>\n",
              "      <th>max</th>\n",
              "      <td>50.810000</td>\n",
              "      <td>10.000000</td>\n",
              "      <td>6.000000</td>\n",
              "    </tr>\n",
              "  </tbody>\n",
              "</table>\n",
              "</div>"
            ],
            "text/plain": [
              "       total_bill         tip        size\n",
              "count  244.000000  244.000000  244.000000\n",
              "mean    19.785943    2.998279    2.569672\n",
              "std      8.902412    1.383638    0.951100\n",
              "min      3.070000    1.000000    1.000000\n",
              "25%     13.347500    2.000000    2.000000\n",
              "50%     17.795000    2.900000    2.000000\n",
              "75%     24.127500    3.562500    3.000000\n",
              "max     50.810000   10.000000    6.000000"
            ]
          },
          "metadata": {
            "tags": []
          },
          "execution_count": 30
        }
      ]
    },
    {
      "cell_type": "markdown",
      "metadata": {
        "id": "YvLaI8ER1VkL"
      },
      "source": [
        "Dari dua (2) data numerik tersebut (\"total_bill\" & 'tip\") tidak berdistribusi normal karena terlihat bahwa pola grafiknya cenderung ke kiri (skewness left). Selain itu dapat juga dilihat pada statistik deskriptif bahwa nilai rata-rata dari dua variabel tersebut lebih besar dari standar deviasi (std)nya sehingga data cenderung berada di sebelah kiri"
      ]
    },
    {
      "cell_type": "code",
      "metadata": {
        "id": "Q7d6KwJ32II2"
      },
      "source": [
        ""
      ],
      "execution_count": null,
      "outputs": []
    },
    {
      "cell_type": "markdown",
      "metadata": {
        "id": "k7N1bWyz2LyM"
      },
      "source": [
        "3. Apakah ada outlier, noise, missing values, dan-atau duplikasi data?"
      ]
    },
    {
      "cell_type": "code",
      "metadata": {
        "colab": {
          "base_uri": "https://localhost:8080/",
          "height": 266
        },
        "id": "KcqKFmCv2z8n",
        "outputId": "07b880f7-de1b-4226-e6b3-01f2ec9c6d48"
      },
      "source": [
        "#Mengecek outlier pada \"total_bill\"\n",
        "sns.boxplot( y=tips[\"total_bill\"])"
      ],
      "execution_count": 31,
      "outputs": [
        {
          "output_type": "execute_result",
          "data": {
            "text/plain": [
              "<matplotlib.axes._subplots.AxesSubplot at 0x7fe7c1a6a350>"
            ]
          },
          "metadata": {
            "tags": []
          },
          "execution_count": 31
        },
        {
          "output_type": "display_data",
          "data": {
            "image/png": "[encoded data removed]",
            "text/plain": [
              "<Figure size 432x288 with 1 Axes>"
            ]
          },
          "metadata": {
            "tags": [],
            "needs_background": "light"
          }
        }
      ]
    },
    {
      "cell_type": "code",
      "metadata": {
        "colab": {
          "base_uri": "https://localhost:8080/",
          "height": 266
        },
        "id": "lvOFJgEk24oy",
        "outputId": "0b8824d6-eeb0-43b7-aa58-0a9c43f9e8bb"
      },
      "source": [
        "#Mengecek outlier pada \"tip\"\n",
        "sns.boxplot( y=tips[\"tip\"])"
      ],
      "execution_count": 32,
      "outputs": [
        {
          "output_type": "execute_result",
          "data": {
            "text/plain": [
              "<matplotlib.axes._subplots.AxesSubplot at 0x7fe7ca8be550>"
            ]
          },
          "metadata": {
            "tags": []
          },
          "execution_count": 32
        },
        {
          "output_type": "display_data",
          "data": {
            "image/png": "[encoded data removed]",
            "text/plain": [
              "<Figure size 432x288 with 1 Axes>"
            ]
          },
          "metadata": {
            "tags": [],
            "needs_background": "light"
          }
        }
      ]
    },
    {
      "cell_type": "code",
      "metadata": {
        "colab": {
          "base_uri": "https://localhost:8080/"
        },
        "id": "am6mScRT3Cs_",
        "outputId": "468f7d03-f8c6-4b41-fb82-e5f0208c1b0b"
      },
      "source": [
        "#Mengecek nilai dari setiap column untuk mengecek apakah ada data noise\n",
        "print(\"=============================Data total_bill=============================\\n\" + str(tips[\"total_bill\"].unique()))\n",
        "print(\"\\n================================Data tip================================\\n\" + str(tips[\"tip\"].unique()))\n",
        "print(\"\\n================================Data sex================================\\n\" + str(tips[\"sex\"].unique()))\n",
        "print(\"\\n================================Data smoker================================\\n\" + str(tips[\"smoker\"].unique()))\n",
        "print(\"\\n================================Data day================================\\n\" + str(tips[\"day\"].unique()))\n",
        "print(\"\\n================================Data time================================\\n\" + str(tips[\"time\"].unique()))\n",
        "print(\"\\n================================Data size================================\\n\" + str(tips[\"size\"].unique()))"
      ],
      "execution_count": 33,
      "outputs": [
        {
          "output_type": "stream",
          "text": [
            "=============================Data total_bill=============================\n",
            "[16.99 10.34 21.01 23.68 24.59 25.29  8.77 26.88 15.04 14.78 10.27 35.26\n",
            " 15.42 18.43 14.83 21.58 10.33 16.29 16.97 20.65 17.92 20.29 15.77 39.42\n",
            " 19.82 17.81 13.37 12.69 21.7  19.65  9.55 18.35 15.06 20.69 17.78 24.06\n",
            " 16.31 16.93 18.69 31.27 16.04 17.46 13.94  9.68 30.4  18.29 22.23 32.4\n",
            " 28.55 18.04 12.54 10.29 34.81  9.94 25.56 19.49 38.01 26.41 11.24 48.27\n",
            " 13.81 11.02 17.59 20.08 16.45  3.07 20.23 15.01 12.02 17.07 26.86 25.28\n",
            " 14.73 10.51 27.2  22.76 17.29 19.44 16.66 10.07 32.68 15.98 34.83 13.03\n",
            " 18.28 24.71 21.16 28.97 22.49  5.75 16.32 22.75 40.17 27.28 12.03 12.46\n",
            " 11.35 15.38 44.3  22.42 20.92 15.36 20.49 25.21 18.24 14.31 14.    7.25\n",
            " 38.07 23.95 25.71 17.31 29.93 10.65 12.43 24.08 11.69 13.42 14.26 15.95\n",
            " 12.48 29.8   8.52 14.52 11.38 22.82 19.08 20.27 11.17 12.26 18.26  8.51\n",
            " 14.15 16.   13.16 17.47 34.3  41.19 27.05 16.43  8.35 18.64 11.87  9.78\n",
            "  7.51 14.07 13.13 17.26 24.55 19.77 29.85 48.17 25.   13.39 16.49 21.5\n",
            " 12.66 16.21 17.51 24.52 20.76 31.71 10.59 10.63 50.81 15.81 31.85 16.82\n",
            " 32.9  17.89 14.48  9.6  34.63 34.65 23.33 45.35 23.17 40.55 20.9  30.46\n",
            " 18.15 23.1  15.69 19.81 28.44 15.48 16.58  7.56 43.11 13.   13.51 18.71\n",
            " 12.74 16.4  20.53 16.47 26.59 38.73 24.27 12.76 30.06 25.89 48.33 13.27\n",
            " 28.17 12.9  28.15 11.59  7.74 30.14 12.16  8.58 16.27 10.09 20.45 13.28\n",
            " 22.12 24.01 11.61 10.77 15.53 12.6  32.83 35.83 29.03 27.18 22.67 17.82\n",
            " 18.78]\n",
            "\n",
            "================================Data tip================================\n",
            "[ 1.01  1.66  3.5   3.31  3.61  4.71  2.    3.12  1.96  3.23  1.71  5.\n",
            "  1.57  3.    3.02  3.92  1.67  3.71  3.35  4.08  2.75  2.23  7.58  3.18\n",
            "  2.34  4.3   1.45  2.5   2.45  3.27  3.6   3.07  2.31  2.24  2.54  3.06\n",
            "  1.32  5.6   6.    2.05  2.6   5.2   1.56  4.34  3.51  1.5   1.76  6.73\n",
            "  3.21  1.98  3.76  2.64  3.15  2.47  1.    2.01  2.09  1.97  3.14  2.2\n",
            "  1.25  3.08  4.    2.71  3.4   1.83  2.03  5.17  5.85  3.25  4.73  3.48\n",
            "  1.64  4.06  4.29  2.55  5.07  1.8   2.92  1.68  2.52  4.2   1.48  2.18\n",
            "  2.83  6.7   2.3   1.36  1.63  1.73  2.74  5.14  3.75  2.61  4.5   1.61\n",
            " 10.    3.16  5.15  3.11  3.55  3.68  5.65  6.5   4.19  2.56  2.02  1.44\n",
            "  3.41  5.16  9.    1.1   3.09  1.92  1.58  2.72  2.88  3.39  1.47  1.17\n",
            "  4.67  5.92  1.75]\n",
            "\n",
            "================================Data sex================================\n",
            "['Female', 'Male']\n",
            "Categories (2, object): ['Female', 'Male']\n",
            "\n",
            "================================Data smoker================================\n",
            "['No', 'Yes']\n",
            "Categories (2, object): ['No', 'Yes']\n",
            "\n",
            "================================Data day================================\n",
            "['Sun', 'Sat', 'Thur', 'Fri']\n",
            "Categories (4, object): ['Sun', 'Sat', 'Thur', 'Fri']\n",
            "\n",
            "================================Data time================================\n",
            "['Dinner', 'Lunch']\n",
            "Categories (2, object): ['Dinner', 'Lunch']\n",
            "\n",
            "================================Data size================================\n",
            "[2 3 4 1 6 5]\n"
          ],
          "name": "stdout"
        }
      ]
    },
    {
      "cell_type": "code",
      "metadata": {
        "colab": {
          "base_uri": "https://localhost:8080/"
        },
        "id": "fs3hzY0L3GzK",
        "outputId": "cf9aefda-5554-4d31-a2da-480511e9ee85"
      },
      "source": [
        "#Mengecek missing values pada data\n",
        "tips.isnull().sum()"
      ],
      "execution_count": 34,
      "outputs": [
        {
          "output_type": "execute_result",
          "data": {
            "text/plain": [
              "total_bill    0\n",
              "tip           0\n",
              "sex           0\n",
              "smoker        0\n",
              "day           0\n",
              "time          0\n",
              "size          0\n",
              "dtype: int64"
            ]
          },
          "metadata": {
            "tags": []
          },
          "execution_count": 34
        }
      ]
    },
    {
      "cell_type": "code",
      "metadata": {
        "colab": {
          "base_uri": "https://localhost:8080/"
        },
        "id": "f9MbZ0rv3JIY",
        "outputId": "27903d79-2a1a-49d5-a20b-af26e3457aef"
      },
      "source": [
        "#Mengecek data duplikat\n",
        "tips.duplicated().sum()"
      ],
      "execution_count": 35,
      "outputs": [
        {
          "output_type": "execute_result",
          "data": {
            "text/plain": [
              "1"
            ]
          },
          "metadata": {
            "tags": []
          },
          "execution_count": 35
        }
      ]
    },
    {
      "cell_type": "markdown",
      "metadata": {
        "id": "nelFHQJW3qnV"
      },
      "source": [
        "4. Apakah pelanggan pria dan wanita cenderung proporsional (balance)?"
      ]
    },
    {
      "cell_type": "code",
      "metadata": {
        "colab": {
          "base_uri": "https://localhost:8080/",
          "height": 394
        },
        "id": "KrsmbqAS3qEH",
        "outputId": "3d6883c8-2e83-4778-8fe9-d6d38f105194"
      },
      "source": [
        "plt.figure(figsize=(8,6))\n",
        "p = sns.countplot(x=\"sex\", data=tips)"
      ],
      "execution_count": 36,
      "outputs": [
        {
          "output_type": "display_data",
          "data": {
            "image/png": "[encoded data removed]",
            "text/plain": [
              "<Figure size 576x432 with 1 Axes>"
            ]
          },
          "metadata": {
            "tags": [],
            "needs_background": "light"
          }
        }
      ]
    },
    {
      "cell_type": "markdown",
      "metadata": {
        "id": "5qvRP5po3zJ2"
      },
      "source": [
        "Dilihat pada grafik tersebut pelanggan pria cenderung lebih banyak dibanding pelanggan wanita"
      ]
    },
    {
      "cell_type": "markdown",
      "metadata": {
        "id": "5S2Z09434BZr"
      },
      "source": [
        "5. Dari data yang ada apakah Pria atau wanita ada kecenderungan memberi tips lebih besar?"
      ]
    },
    {
      "cell_type": "code",
      "metadata": {
        "colab": {
          "base_uri": "https://localhost:8080/",
          "height": 404
        },
        "id": "juYgKrtl3r6H",
        "outputId": "a5c4537f-f0e7-42a3-ccba-0b72bccf5579"
      },
      "source": [
        "tips = sns.load_dataset(\"tips\")\n",
        "sns.catplot(x=\"sex\", y=\"tip\", data=tips)"
      ],
      "execution_count": 37,
      "outputs": [
        {
          "output_type": "execute_result",
          "data": {
            "text/plain": [
              "<seaborn.axisgrid.FacetGrid at 0x7fe7c1956690>"
            ]
          },
          "metadata": {
            "tags": []
          },
          "execution_count": 37
        },
        {
          "output_type": "display_data",
          "data": {
            "image/png": "[encoded data removed]",
            "text/plain": [
              "<Figure size 360x360 with 1 Axes>"
            ]
          },
          "metadata": {
            "tags": [],
            "needs_background": "light"
          }
        }
      ]
    },
    {
      "cell_type": "markdown",
      "metadata": {
        "id": "1tOhsih24Hh6"
      },
      "source": [
        "Dilihat pada plot tersebut bahwa pelanggan pria cenderung lebih besar dalam memberikan tip"
      ]
    },
    {
      "cell_type": "markdown",
      "metadata": {
        "id": "W4BW6CP44WBh"
      },
      "source": [
        "6. Dari data yang ada apakah ada kecenderungan tips lebih besar di hari-hari tertentu?"
      ]
    },
    {
      "cell_type": "code",
      "metadata": {
        "colab": {
          "base_uri": "https://localhost:8080/",
          "height": 404
        },
        "id": "1pZNPD4l4Gmn",
        "outputId": "1336e6a9-3acc-425a-b8db-a0dc1cfc5560"
      },
      "source": [
        "tips = sns.load_dataset(\"tips\")\n",
        "sns.catplot(x=\"day\", y=\"tip\", data=tips)"
      ],
      "execution_count": 38,
      "outputs": [
        {
          "output_type": "execute_result",
          "data": {
            "text/plain": [
              "<seaborn.axisgrid.FacetGrid at 0x7fe7bc94d410>"
            ]
          },
          "metadata": {
            "tags": []
          },
          "execution_count": 38
        },
        {
          "output_type": "display_data",
          "data": {
            "image/png": "[encoded data removed]",
            "text/plain": [
              "<Figure size 360x360 with 1 Axes>"
            ]
          },
          "metadata": {
            "tags": [],
            "needs_background": "light"
          }
        }
      ]
    },
    {
      "cell_type": "markdown",
      "metadata": {
        "id": "Qo0OUjFm4cYD"
      },
      "source": [
        "Dilihat pada plot tersebut bahwa pelanggan pada hari sabtu cenderung lebih besar dalam memberikan tip dibandingkan dengan hari-hari lain"
      ]
    },
    {
      "cell_type": "markdown",
      "metadata": {
        "id": "JAJOLya85HzK"
      },
      "source": [
        "7. Dari data yang ada apakah customer perokok cenderung memberi tips lebih besar?"
      ]
    },
    {
      "cell_type": "code",
      "metadata": {
        "colab": {
          "base_uri": "https://localhost:8080/",
          "height": 404
        },
        "id": "319tNRDz407P",
        "outputId": "4c334a54-c679-4add-b273-aeb215d7c868"
      },
      "source": [
        "tips = sns.load_dataset(\"tips\")\n",
        "sns.catplot(x=\"smoker\", y=\"tip\", data=tips)"
      ],
      "execution_count": 44,
      "outputs": [
        {
          "output_type": "execute_result",
          "data": {
            "text/plain": [
              "<seaborn.axisgrid.FacetGrid at 0x7fe7bc8fe8d0>"
            ]
          },
          "metadata": {
            "tags": []
          },
          "execution_count": 44
        },
        {
          "output_type": "display_data",
          "data": {
            "image/png": "[encoded data removed]",
            "text/plain": [
              "<Figure size 360x360 with 1 Axes>"
            ]
          },
          "metadata": {
            "tags": [],
            "needs_background": "light"
          }
        }
      ]
    },
    {
      "cell_type": "markdown",
      "metadata": {
        "id": "bqPDTGuC5PFw"
      },
      "source": [
        "Dilihat pada plot tersebut bahwa tidak terdapat perbedaan yang signifikan terhadap pelanggan smoker dan non-smoker dalam memberikan tip"
      ]
    },
    {
      "cell_type": "markdown",
      "metadata": {
        "id": "e-cpxYTj5m09"
      },
      "source": [
        "8. Apakah pola di nomer 5 dan 7 dipengaruhi hari?"
      ]
    },
    {
      "cell_type": "code",
      "metadata": {
        "colab": {
          "base_uri": "https://localhost:8080/",
          "height": 404
        },
        "id": "wRw0IwOt5ftP",
        "outputId": "397aeb52-b5bb-46b8-afc6-8aafc41f363b"
      },
      "source": [
        "tips = sns.load_dataset(\"tips\")\n",
        "sns.catplot(x=\"day\", y=\"tip\", hue=\"sex\", data=tips)"
      ],
      "execution_count": 45,
      "outputs": [
        {
          "output_type": "execute_result",
          "data": {
            "text/plain": [
              "<seaborn.axisgrid.FacetGrid at 0x7fe7bc824410>"
            ]
          },
          "metadata": {
            "tags": []
          },
          "execution_count": 45
        },
        {
          "output_type": "display_data",
          "data": {
            "image/png": "[encoded data removed]",
            "text/plain": [
              "<Figure size 439.725x360 with 1 Axes>"
            ]
          },
          "metadata": {
            "tags": [],
            "needs_background": "light"
          }
        }
      ]
    },
    {
      "cell_type": "code",
      "metadata": {
        "colab": {
          "base_uri": "https://localhost:8080/",
          "height": 404
        },
        "id": "xknBKLO95sjX",
        "outputId": "06a31f4d-37ba-4929-afb8-1daa1f3298db"
      },
      "source": [
        "tips = sns.load_dataset(\"tips\")\n",
        "sns.catplot(x=\"day\", y=\"tip\", hue=\"smoker\", data=tips)"
      ],
      "execution_count": 46,
      "outputs": [
        {
          "output_type": "execute_result",
          "data": {
            "text/plain": [
              "<seaborn.axisgrid.FacetGrid at 0x7fe7bc82b090>"
            ]
          },
          "metadata": {
            "tags": []
          },
          "execution_count": 46
        },
        {
          "output_type": "display_data",
          "data": {
            "image/png": "[encoded data removed]",
            "text/plain": [
              "<Figure size 417.475x360 with 1 Axes>"
            ]
          },
          "metadata": {
            "tags": [],
            "needs_background": "light"
          }
        }
      ]
    },
    {
      "cell_type": "markdown",
      "metadata": {
        "id": "ZxLTjsYe56Lu"
      },
      "source": [
        "Dilihat pada plot tersebut bahwa dari pola nomor 5 (berdasarkan jenis kelamin) dan pola nomor 7 (berdasarkan smoker/non-smoker) menunjukkan bahwa hari Sabtu pelanggan-pelanggan berdasarkan kategori tersebut cenderung memberikan tips lebih besar"
      ]
    },
    {
      "cell_type": "markdown",
      "metadata": {
        "id": "ElTWHbtO6emJ"
      },
      "source": [
        "9. Pola apalagi yang dapat anda temukan? (misal, bisakah anda menyarankan tata letak kursi/meja restaurant dari data ini?)"
      ]
    },
    {
      "cell_type": "code",
      "metadata": {
        "colab": {
          "base_uri": "https://localhost:8080/",
          "height": 287
        },
        "id": "M-wS3IkQ6hkW",
        "outputId": "73d053cd-a8df-4c29-c05d-7e5fd88d835c"
      },
      "source": [
        "from statsmodels.graphics.mosaicplot import mosaic\n",
        "p = mosaic(tips, ['sex','smoker','time',])"
      ],
      "execution_count": 50,
      "outputs": [
        {
          "output_type": "display_data",
          "data": {
            "image/png": "[encoded data removed]",
            "text/plain": [
              "<Figure size 432x288 with 3 Axes>"
            ]
          },
          "metadata": {
            "tags": [],
            "needs_background": "light"
          }
        }
      ]
    },
    {
      "cell_type": "code",
      "metadata": {
        "colab": {
          "base_uri": "https://localhost:8080/",
          "height": 274
        },
        "id": "PstI_onk7jDM",
        "outputId": "58794152-9f01-4de9-a619-3f0a4877c069"
      },
      "source": [
        "p = mosaic(tips, ['day','smoker'])"
      ],
      "execution_count": 52,
      "outputs": [
        {
          "output_type": "display_data",
          "data": {
            "image/png": "[encoded data removed]",
            "text/plain": [
              "<Figure size 432x288 with 3 Axes>"
            ]
          },
          "metadata": {
            "tags": [],
            "needs_background": "light"
          }
        }
      ]
    },
    {
      "cell_type": "code",
      "metadata": {
        "colab": {
          "base_uri": "https://localhost:8080/",
          "height": 274
        },
        "id": "VYS4f2aR8vAN",
        "outputId": "613829c1-49f9-468e-9227-9d54ec2d1664"
      },
      "source": [
        "p = mosaic(tips, ['sex','day'])"
      ],
      "execution_count": 60,
      "outputs": [
        {
          "output_type": "display_data",
          "data": {
            "image/png": "[encoded data removed]",
            "text/plain": [
              "<Figure size 432x288 with 3 Axes>"
            ]
          },
          "metadata": {
            "tags": [],
            "needs_background": "light"
          }
        }
      ]
    },
    {
      "cell_type": "code",
      "metadata": {
        "colab": {
          "base_uri": "https://localhost:8080/",
          "height": 404
        },
        "id": "BDTAQfrSC70r",
        "outputId": "9d99e670-8e12-41d1-ab91-6bbc07d87510"
      },
      "source": [
        "tips = sns.load_dataset(\"tips\")\n",
        "sns.catplot(x=\"size\", y=\"total_bill\", data=tips)"
      ],
      "execution_count": 61,
      "outputs": [
        {
          "output_type": "execute_result",
          "data": {
            "text/plain": [
              "<seaborn.axisgrid.FacetGrid at 0x7fe7bc0208d0>"
            ]
          },
          "metadata": {
            "tags": []
          },
          "execution_count": 61
        },
        {
          "output_type": "display_data",
          "data": {
            "image/png": "[encoded data removed]",
            "text/plain": [
              "<Figure size 360x360 with 1 Axes>"
            ]
          },
          "metadata": {
            "tags": [],
            "needs_background": "light"
          }
        }
      ]
    },
    {
      "cell_type": "markdown",
      "metadata": {
        "id": "YMVC6Lzc6unN"
      },
      "source": [
        "Dari grafik-grafik tersebut kami dapat menemukan:\n",
        "\n",
        "\n",
        "1.   Dilihat dari jumlah pelanggan berdasarkan kategori smoker, maka dari itu penataan meja/kursi bisa lebih banyak di non-smoking area pada hari Minggu, dan Kamis dan penataan meja/kursi lebih banyak di smoking area pada hari Jumat\n",
        "2.   Dilihat berdasarkan kategori waktu (lunch/dinner), pelanggan cenderung lebih banyak datang saat jam makan malam (dinner) sehingga diperlukan jumlah staff yang lebih banyak pada malam hari\n",
        "3. Dilihat dari penyebaran data total_bill berdasarkan kategori size ditemukan bahwa semakin besar sizenya maka nilai/batas bawah total_bill semakin meningkat\n",
        "\n"
      ]
    },
    {
      "cell_type": "markdown",
      "metadata": {
        "id": "CVUbspTq-ZWp"
      },
      "source": [
        "10. Final question: dari hasil EDA anda saran apa saja yang akan anda berikan ke pemilik restaurant? "
      ]
    },
    {
      "cell_type": "code",
      "metadata": {
        "colab": {
          "base_uri": "https://localhost:8080/",
          "height": 404
        },
        "id": "0OrMOpAi9mQd",
        "outputId": "22f78ed2-df02-49cb-90f0-427dac108c86"
      },
      "source": [
        "tips = sns.load_dataset(\"tips\")\n",
        "sns.catplot(x=\"day\", y=\"total_bill\", data=tips)"
      ],
      "execution_count": 59,
      "outputs": [
        {
          "output_type": "execute_result",
          "data": {
            "text/plain": [
              "<seaborn.axisgrid.FacetGrid at 0x7fe7bbf65f10>"
            ]
          },
          "metadata": {
            "tags": []
          },
          "execution_count": 59
        },
        {
          "output_type": "display_data",
          "data": {
            "image/png": "[encoded data removed]",
            "text/plain": [
              "<Figure size 360x360 with 1 Axes>"
            ]
          },
          "metadata": {
            "tags": [],
            "needs_background": "light"
          }
        }
      ]
    },
    {
      "cell_type": "code",
      "metadata": {
        "colab": {
          "base_uri": "https://localhost:8080/",
          "height": 394
        },
        "id": "W8-1f7tT-adI",
        "outputId": "29c663ac-ac2d-4d43-ff2c-1306877dc5db"
      },
      "source": [
        "plt.figure(figsize=(8,6))\n",
        "p = sns.countplot(x=\"day\", data=tips)"
      ],
      "execution_count": 58,
      "outputs": [
        {
          "output_type": "display_data",
          "data": {
            "image/png": "[encoded data removed]",
            "text/plain": [
              "<Figure size 576x432 with 1 Axes>"
            ]
          },
          "metadata": {
            "tags": [],
            "needs_background": "light"
          }
        }
      ]
    },
    {
      "cell_type": "markdown",
      "metadata": {
        "id": "0wgpiECDA1YZ"
      },
      "source": [
        "Dari grafik-grafik tersebut kami dapat memberikan saran, yaitu:\n",
        "\n",
        "\n",
        "1.   Restoran dapat memberikan promo atau diskon tertentu di hari Jumat untuk meningkatkan jumlah pelanggan maupun pendapatannya\n",
        "2.   Restoran dapat menambah hari dibukanya restoran untuk meningkatkan pendapatan"
      ]
    },
    {
      "cell_type": "code",
      "metadata": {
        "id": "j7z_4XfnEL8Q"
      },
      "source": [
        ""
      ],
      "execution_count": null,
      "outputs": []
    },
    {
      "cell_type": "markdown",
      "metadata": {
        "id": "RAi8cQejEgbt"
      },
      "source": [
        "Skills/kompetensi apa yang terasa sangat diperlukan dari latihan ini?"
      ]
    },
    {
      "cell_type": "markdown",
      "metadata": {
        "id": "cDtrKQ1JEhk9"
      },
      "source": [
        "Skills yang diperlukan dalam melakukan latihan ini yaitu kemampuan analisa dalam membaca grafik atau visualisasi data, juga diperlukan kemampuan dasar dalam bahasa pemrograman python"
      ]
    },
    {
      "cell_type": "code",
      "metadata": {
        "id": "AQ2lhtbfEhPo"
      },
      "source": [
        ""
      ],
      "execution_count": null,
      "outputs": []
    }
  ]
}